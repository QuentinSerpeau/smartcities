{
 "cells": [
  {
   "attachments": {},
   "cell_type": "markdown",
   "id": "35a53b91-f1eb-4c06-983f-3aaa32ac5a87",
   "metadata": {
    "tags": []
   },
   "source": [
    "# Thermal circuit and state-space representation for a thermal circuit with capacities in some nodes: cubic building\n"
   ]
  },
  {
   "cell_type": "code",
   "execution_count": 1,
   "id": "764b77e2-3f93-4484-9842-6b328305d517",
   "metadata": {},
   "outputs": [],
   "source": [
    "import numpy as np\n",
    "import pandas as pd\n",
    "import matplotlib.pyplot as plt\n",
    "import dm4bem"
   ]
  },
  {
   "cell_type": "markdown",
   "id": "dd09d492-4c1d-422d-9a88-55f8631e5836",
   "metadata": {
    "tags": []
   },
   "source": [
    "## Physical analysis\n",
    "\n",
    "### Description of the building\n",
    "\n",
    "![cube](./figures/03_cube_principle.svg)\n",
    "> Figure 1. Simple ventilated room (5 two-layer walls and 1 glass window) equiped with an HVAC system which acts as a proportional controller.\n",
    "\n",
    "Let’s consider a cubic building with an HVAC systems acting as a [proportional controller](https://en.m.wikipedia.org/wiki/Proportional_control)."
   ]
  },
  {
   "attachments": {},
   "cell_type": "markdown",
   "id": "d101012e-cfec-4e3d-9268-03e8cc68fceb",
   "metadata": {
    "tags": []
   },
   "source": [
    "The dimensions and surface areas of the building are:\n",
    "- $l=5 \\: \\mathrm{m}$ - edge length of the cube;\n",
    "- $S_d = 2*0.8$ surface of the door\n",
    "- $S_g = 5^{2}$ surface of the window \n",
    "- $S_{ce} = S_g$ surface of the exterior concrete walls;\n",
    "- $S_{ci} = S_g -S_d $ surface of the interior concrete wall minus the door's surface"
   ]
  },
  {
   "cell_type": "code",
   "execution_count": 2,
   "id": "e81f680f-dfcf-42a7-95f0-25869b407aee",
   "metadata": {},
   "outputs": [],
   "source": [
    "l = 5 #lenght and height of the cube\n",
    "Sd = 2*0.8 #surface of the door\n",
    "Sg = 5**2 #surface of the window \n",
    "Sce = Sg #surface of the exterior concrete walls\n",
    "Sci = Sg - Sd #surface of the interior concrete wall minus the door's surface"
   ]
  },
  {
   "cell_type": "markdown",
   "id": "04249e0b-1f3d-47f5-b8f7-024135cda83b",
   "metadata": {},
   "source": [
    "### Thermo-physical properties\n",
    "The thermophysical properties of the air (in SI units) are:"
   ]
  },
  {
   "cell_type": "code",
   "execution_count": 3,
   "id": "6b636b8a-a7af-4ebe-9eee-578dea6f7742",
   "metadata": {},
   "outputs": [
    {
     "data": {
      "text/html": [
       "<div>\n",
       "<style scoped>\n",
       "    .dataframe tbody tr th:only-of-type {\n",
       "        vertical-align: middle;\n",
       "    }\n",
       "\n",
       "    .dataframe tbody tr th {\n",
       "        vertical-align: top;\n",
       "    }\n",
       "\n",
       "    .dataframe thead th {\n",
       "        text-align: right;\n",
       "    }\n",
       "</style>\n",
       "<table border=\"1\" class=\"dataframe\">\n",
       "  <thead>\n",
       "    <tr style=\"text-align: right;\">\n",
       "      <th></th>\n",
       "      <th>Density</th>\n",
       "      <th>Specific heat</th>\n",
       "    </tr>\n",
       "  </thead>\n",
       "  <tbody>\n",
       "    <tr>\n",
       "      <th>Air</th>\n",
       "      <td>1.2</td>\n",
       "      <td>1000</td>\n",
       "    </tr>\n",
       "  </tbody>\n",
       "</table>\n",
       "</div>"
      ],
      "text/plain": [
       "     Density  Specific heat\n",
       "Air      1.2           1000"
      ]
     },
     "execution_count": 3,
     "metadata": {},
     "output_type": "execute_result"
    }
   ],
   "source": [
    "air = {'Density': 1.2,                      # kg/m³\n",
    "       'Specific heat': 1000}               # J/(kg·K)\n",
    "# pd.DataFrame.from_dict(air, orient='index', columns=['air'])\n",
    "pd.DataFrame(air, index=['Air'])"
   ]
  },
  {
   "cell_type": "markdown",
   "id": "55dcaa59-47e6-4fbd-9c42-ad843a62b4d6",
   "metadata": {},
   "source": [
    "The [thermophysical properties](https://energieplus-lesite.be/donnees/enveloppe44/enveloppe2/conductivite-thermique-des-materiaux/) ([thermal conductivities](https://en.m.wikipedia.org/wiki/List_of_thermal_conductivities), [densities](https://en.wikipedia.org/wiki/Density) and [specific heat capacities](https://en.m.wikipedia.org/wiki/Table_of_specific_heat_capacities)) and the geometry (widths and surface areas) of the three materials (i.e., concrete, insulation, glass) in SI units are:"
   ]
  },
  {
   "cell_type": "code",
   "execution_count": 4,
   "id": "2db86dfc-2fd4-4a32-94b2-a21dcd1286c8",
   "metadata": {},
   "outputs": [
    {
     "data": {
      "text/html": [
       "<div>\n",
       "<style scoped>\n",
       "    .dataframe tbody tr th:only-of-type {\n",
       "        vertical-align: middle;\n",
       "    }\n",
       "\n",
       "    .dataframe tbody tr th {\n",
       "        vertical-align: top;\n",
       "    }\n",
       "\n",
       "    .dataframe thead th {\n",
       "        text-align: right;\n",
       "    }\n",
       "</style>\n",
       "<table border=\"1\" class=\"dataframe\">\n",
       "  <thead>\n",
       "    <tr style=\"text-align: right;\">\n",
       "      <th></th>\n",
       "      <th>Conductivity</th>\n",
       "      <th>Density</th>\n",
       "      <th>Specific heat</th>\n",
       "      <th>Width</th>\n",
       "      <th>Surface</th>\n",
       "    </tr>\n",
       "  </thead>\n",
       "  <tbody>\n",
       "    <tr>\n",
       "      <th>Layer_out</th>\n",
       "      <td>0.027</td>\n",
       "      <td>55.0</td>\n",
       "      <td>1210</td>\n",
       "      <td>0.08</td>\n",
       "      <td>45</td>\n",
       "    </tr>\n",
       "    <tr>\n",
       "      <th>Layer_in</th>\n",
       "      <td>1.400</td>\n",
       "      <td>2300.0</td>\n",
       "      <td>880</td>\n",
       "      <td>0.20</td>\n",
       "      <td>45</td>\n",
       "    </tr>\n",
       "    <tr>\n",
       "      <th>Glass</th>\n",
       "      <td>1.400</td>\n",
       "      <td>2500.0</td>\n",
       "      <td>1210</td>\n",
       "      <td>0.04</td>\n",
       "      <td>9</td>\n",
       "    </tr>\n",
       "  </tbody>\n",
       "</table>\n",
       "</div>"
      ],
      "text/plain": [
       "           Conductivity  Density  Specific heat  Width  Surface\n",
       "Layer_out         0.027     55.0           1210   0.08       45\n",
       "Layer_in          1.400   2300.0            880   0.20       45\n",
       "Glass             1.400   2500.0           1210   0.04        9"
      ]
     },
     "execution_count": 4,
     "metadata": {},
     "output_type": "execute_result"
    }
   ],
   "source": [
    "concrete = {'Conductivity': 1.400,\n",
    "            'Density': 2300.0,\n",
    "            'Specific heat': 880,\n",
    "            'Width': 0.2,\n",
    "            'Surface': Sci+Sce}\n",
    "\n",
    "insulation_e = {'Conductivity': 0.027,\n",
    "              'Density': 55.0,\n",
    "              'Specific heat': 1210,\n",
    "              'Width': 0.08,\n",
    "              'Surface': Sce}\n",
    "\n",
    "insulation_i = {'Conductivity': 0.027,\n",
    "              'Density': 55.0,\n",
    "              'Specific heat': 1210,\n",
    "              'Width': 0.08,\n",
    "              'Surface': Sci}\n",
    "\n",
    "wood = {'Conductivity': 0.16,\n",
    "         'Density': 800,\n",
    "         'Specific heat': 2380,\n",
    "         'Width': 0.08,\n",
    "         'Surface': Sd}\n",
    "\n",
    "glass = {'Conductivity': 1.4,\n",
    "         'Density': 2500,\n",
    "         'Specific heat': 1210,\n",
    "         'Width': 0.04,\n",
    "         'Surface': Sg}\n",
    "\n",
    "wall = pd.DataFrame.from_dict({'Layer_out': insulation_e,'Layer_in': insulation_i,\n",
    "                               'Layer_in': concrete,\n",
    "                               'Glass': glass,'Door': wood},\n",
    "                              orient='index')\n",
    "wall"
   ]
  },
  {
   "cell_type": "markdown",
   "id": "30e10ea7-83eb-4a06-889e-d1c83b617b14",
   "metadata": {},
   "source": [
    "### Radiative properties\n",
    "\n",
    "The [radiative properties](https://en.wikipedia.org/wiki/Emissivity#Absorptivity) of the surfaces are:\n",
    "- long wave [emmisivity](https://www.engineeringtoolbox.com/emissivity-coefficients-d_447.html) of concrete (between normal and rough) and glass pyrex;\n",
    "- short wave [absortivity of solar radiation](https://www.engineeringtoolbox.com/solar-radiation-absorbed-materials-d_1568.html) of white smooth surfaces;\n",
    "- short wave [transmittance](https://www.engineeringtoolbox.com/optical-properties-glazing-materials-d_1355.html) of window glass (thickness of 4 mm);\n",
    "- short wave [absortivity and transmittance](https://energieplus-lesite.be/techniques/enveloppe7/composants-de-l-enveloppe/vitrages/vitrage-permettant-le-controle-solaire/) of reflective blue window glass."
   ]
  },
  {
   "cell_type": "code",
   "execution_count": 5,
   "id": "415dff20-125d-4988-b863-90e17919f217",
   "metadata": {},
   "outputs": [],
   "source": [
    "# radiative properties\n",
    "ε_wLW = 0.85    # long wave emmisivity: wall surface (concrete)\n",
    "ε_gLW = 0.90    # long wave emmisivity: glass pyrex\n",
    "α_wSW = 0.25    # short wave absortivity: white smooth surface\n",
    "α_gSW = 0.38    # short wave absortivity: reflective blue glass\n",
    "τ_gSW = 0.30    # short wave transmitance: reflective blue glass"
   ]
  },
  {
   "cell_type": "markdown",
   "id": "702b5007-e07f-48b0-b3d0-c80f6c0dcbd9",
   "metadata": {},
   "source": [
    "The [Stefan-Boltzmann constant](https://en.m.wikipedia.org/wiki/Stefan–Boltzmann_constant) is:"
   ]
  },
  {
   "cell_type": "code",
   "execution_count": 6,
   "id": "1de290ff-7474-4623-aca9-fadfd45593ee",
   "metadata": {},
   "outputs": [
    {
     "name": "stdout",
     "output_type": "stream",
     "text": [
      "σ = 5.67e-08 W/(m²⋅K⁴)\n"
     ]
    }
   ],
   "source": [
    "σ = 5.67e-8     # W/(m²⋅K⁴) Stefan-Bolzmann constant\n",
    "print(f'σ = {σ} W/(m²⋅K⁴)')"
   ]
  },
  {
   "cell_type": "markdown",
   "id": "466314ca-35c9-4327-9ac5-e412f760baed",
   "metadata": {},
   "source": [
    "### Convection coefficients\n",
    "\n",
    "Conventional values for the [convection coeficients](https://energieplus-lesite.be/theories/enveloppe9/echanges-chaleur-parois/resistance-thermique-d-echange-superficiel/) for indoor and outdoor convection in W/(m²⋅K) are:"
   ]
  },
  {
   "cell_type": "code",
   "execution_count": 7,
   "id": "c77bc614-0b91-4d45-93b6-8562947255de",
   "metadata": {},
   "outputs": [],
   "source": [
    "h = pd.DataFrame([{'in': 8., 'out': 25}], index=['h'])  # W/(m²⋅K)\n",
    "# h = pd.DataFrame([{'in': 8., 'out': 25}])  # W/(m²⋅K)"
   ]
  },
  {
   "cell_type": "code",
   "execution_count": null,
   "id": "a9fd244e-9fcd-42e7-b56a-a6438a41f9fd",
   "metadata": {},
   "outputs": [
    {
     "data": {
      "text/html": [
       "<div>\n",
       "<style scoped>\n",
       "    .dataframe tbody tr th:only-of-type {\n",
       "        vertical-align: middle;\n",
       "    }\n",
       "\n",
       "    .dataframe tbody tr th {\n",
       "        vertical-align: top;\n",
       "    }\n",
       "\n",
       "    .dataframe thead th {\n",
       "        text-align: right;\n",
       "    }\n",
       "</style>\n",
       "<table border=\"1\" class=\"dataframe\">\n",
       "  <thead>\n",
       "    <tr style=\"text-align: right;\">\n",
       "      <th></th>\n",
       "      <th>in</th>\n",
       "      <th>out</th>\n",
       "    </tr>\n",
       "  </thead>\n",
       "  <tbody>\n",
       "    <tr>\n",
       "      <th>h</th>\n",
       "      <td>8.0</td>\n",
       "      <td>25</td>\n",
       "    </tr>\n",
       "  </tbody>\n",
       "</table>\n",
       "</div>"
      ],
      "text/plain": [
       "    in  out\n",
       "h  8.0   25"
      ]
     },
     "execution_count": 8,
     "metadata": {},
     "output_type": "execute_result"
    }
   ],
   "source": [
    "h"
   ]
  },
  {
   "cell_type": "markdown",
   "id": "7999a5df-05f3-4f8a-a1e3-7106dca8222e",
   "metadata": {
    "tags": []
   },
   "source": [
    "## Thermal circuit\n",
    "\n",
    "Heat transfert is:\n",
    "- through the walls (concrete and insulation), \n",
    "- through the glass window,\n",
    "- by ventilation,\n",
    "- from indoor auxiliary sources,\n",
    "- from the HVAC system.\n",
    "\n",
    "The HVAC system is modelled as a proportional controller. There is long wave radiative exchange between the wall and the glass window. The sources are:\n",
    "- temperature sources:\n",
    "    - outdoor atmospheric air;\n",
    "    - indoor air temperature setpoint;\n",
    "- flow rate sources:\n",
    "    - solar radiation on the outdoor and the indoor walls;\n",
    "    - auxiliary heat gains in the thermal zone.\n",
    "\n",
    "![heat_processes](./figures/03_heat_process.svg)\n",
    "> Figure 2. Heat processes for the cubic building shown in Figure 1.\n",
    "\n",
    "![thermal_circuit](./figures/03_therm_circ.svg)\n",
    "> Figure 3. Thermal circuit for the cubic building shown in Figure 1 and the heat processes shown in Figure 2. *Note*: space discretization of the walls is done for simplicity."
   ]
  },
  {
   "cell_type": "markdown",
   "id": "4cad06cc-972a-4a7f-859c-4b5de7a1e72d",
   "metadata": {
    "tags": []
   },
   "source": [
    "Figure 3 shows the models of:\n",
    "- concrete & insulation wall: in red;\n",
    "- glass window: in green;\n",
    "- ventilation: in magenta;\n",
    "- indoor volume: in blue (conductances 6 & 7 for convection; conductance 5 for long wave radiation between the walls and the glass window);\n",
    "- HVAC system: in black.\n",
    "\n",
    "The sources are:\n",
    "- $T_o$ - outdoor temperature, °C;\n",
    "- $T_{i,sp}$ - setpoint temperaure for the indoor air, °C;\n",
    "- $\\Phi_o$ - solar radiation absorbed by the outdoor surface of the wall, W;\n",
    "- $\\Phi_i$ - solar radiation absorbed by the indoor surface of the wall, W;\n",
    "- $\\dot{Q}_a$ - auxiliary heat gains (i.e., occupants, electrical devices, etc.), W;\n",
    "- $\\Phi_a$ - solar radiation absorbed by the glass, W.\n",
    "\n",
    "\n",
    "*Note*: The known values, i.e. the elements of the circuit (the conductances $G$ and capacities $C$) and the sources (of temperature $T$ and of flow rate $\\Phi$ or $\\dot{Q}$) are noted in uppercase (majuscule) letters. The unknow variables, i.e. the temperatures in the nodes $\\theta$ and the flow rates on the branches $q$, are noted in lowercase (minuscule) letters."
   ]
  },
  {
   "cell_type": "markdown",
   "id": "3d80e066-38d0-4ca2-b193-0a9f06c26499",
   "metadata": {
    "tags": []
   },
   "source": [
    "### Thermal coductances\n",
    "#### Conduction\n",
    "The conductances 1, 2, 3, and 4 of the thermal circuit from Figure 3 model the heat transfer by [conduction](https://en.m.wikipedia.org/wiki/Thermal_conduction). Conduction conductances, in W/K, are of the form:\n",
    "$$G_{cd} = \\frac{\\lambda}{w}S$$\n",
    "where:\n",
    "\n",
    "- $\\lambda$ - [thermal conductvity](https://en.m.wikipedia.org/wiki/Thermal_conductivity), W/(m⋅K);\n",
    "- $w$ - width of the material, m;\n",
    "- $S$ - surface area of the wall, m²."
   ]
  },
  {
   "cell_type": "code",
   "execution_count": 9,
   "id": "23b6045b-18c2-4598-8c3b-a3e95e9fe541",
   "metadata": {},
   "outputs": [
    {
     "data": {
      "text/html": [
       "<div>\n",
       "<style scoped>\n",
       "    .dataframe tbody tr th:only-of-type {\n",
       "        vertical-align: middle;\n",
       "    }\n",
       "\n",
       "    .dataframe tbody tr th {\n",
       "        vertical-align: top;\n",
       "    }\n",
       "\n",
       "    .dataframe thead th {\n",
       "        text-align: right;\n",
       "    }\n",
       "</style>\n",
       "<table border=\"1\" class=\"dataframe\">\n",
       "  <thead>\n",
       "    <tr style=\"text-align: right;\">\n",
       "      <th></th>\n",
       "      <th>Conductance</th>\n",
       "    </tr>\n",
       "  </thead>\n",
       "  <tbody>\n",
       "    <tr>\n",
       "      <th>Layer_out</th>\n",
       "      <td>15.1875</td>\n",
       "    </tr>\n",
       "    <tr>\n",
       "      <th>Layer_in</th>\n",
       "      <td>315.0000</td>\n",
       "    </tr>\n",
       "    <tr>\n",
       "      <th>Glass</th>\n",
       "      <td>315.0000</td>\n",
       "    </tr>\n",
       "  </tbody>\n",
       "</table>\n",
       "</div>"
      ],
      "text/plain": [
       "           Conductance\n",
       "Layer_out      15.1875\n",
       "Layer_in      315.0000\n",
       "Glass         315.0000"
      ]
     },
     "execution_count": 9,
     "metadata": {},
     "output_type": "execute_result"
    }
   ],
   "source": [
    "# conduction\n",
    "G_cd = wall['Conductivity'] / wall['Width'] * wall['Surface']\n",
    "pd.DataFrame(G_cd, columns={'Conductance'})"
   ]
  },
  {
   "cell_type": "markdown",
   "id": "58c9a68d-ff08-45bf-913a-814fc9aa0f79",
   "metadata": {
    "tags": []
   },
   "source": [
    "#### Convection\n",
    "The conductances 0, 6 and 7 model the heat transfer by [convection](https://en.m.wikipedia.org/wiki/Convection_(heat_transfer). Convection conductances, in W/K, are of the form:\n",
    "$$G_{cv} = {h S}$$\n",
    "where:\n",
    "- $h$ is the [convection coefficient](https://en.m.wikipedia.org/wiki/Heat_transfer_coefficient), W/(m²⋅K);\n",
    "- $S$ - surface area of the wall, m². "
   ]
  },
  {
   "cell_type": "code",
   "execution_count": 10,
   "id": "3df65dcd-7962-42f5-80f2-e71d4cbc6486",
   "metadata": {},
   "outputs": [],
   "source": [
    "# convection\n",
    "Gw = h * wall['Surface'][0]     # wall\n",
    "Gg = h * wall['Surface'][2]     # glass"
   ]
  }
 ],
 "metadata": {
  "kernelspec": {
   "display_name": "Python 3 (ipykernel)",
   "language": "python",
   "name": "python3"
  },
  "language_info": {
   "codemirror_mode": {
    "name": "ipython",
    "version": 3
   },
   "file_extension": ".py",
   "mimetype": "text/x-python",
   "name": "python",
   "nbconvert_exporter": "python",
   "pygments_lexer": "ipython3",
   "version": "3.9.7"
  },
  "toc-autonumbering": true,
  "toc-showcode": false,
  "toc-showmarkdowntxt": false,
  "toc-showtags": false
 },
 "nbformat": 4,
 "nbformat_minor": 5
}
